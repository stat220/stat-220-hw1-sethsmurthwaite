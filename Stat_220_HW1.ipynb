{
 "cells": [
  {
   "cell_type": "markdown",
   "metadata": {},
   "source": [
    "[![Open in Colab](https://colab.research.google.com/assets/colab-badge.svg)](https://colab.research.google.com/github/drbob-richardson/stat220/blob/main/Assignments/Stat_220_HW1.ipynb)\n"
   ]
  },
  {
   "cell_type": "markdown",
   "metadata": {
    "id": "rAHSgD3t8Oct"
   },
   "source": [
    "**Problem 1**. Give an example of a variable that is (a) categorical; (b) quantitative; (c) discrete; (d) continuous.\n",
    "\n"
   ]
  },
  {
   "cell_type": "markdown",
   "metadata": {
    "id": "dsfbC4NlASWt"
   },
   "source": [
    "Categorical Variable: Gender\n",
    "\n",
    "Quantitative Variable: Age\n",
    "\n",
    "Discrete Variable: Hometown\n",
    "\n",
    "Continuous Variable: Temperature"
   ]
  },
  {
   "cell_type": "markdown",
   "metadata": {
    "id": "724wPOyj8SMA"
   },
   "source": [
    "**Problem 2**. Analyze the Carbon_West data file using the following code."
   ]
  },
  {
   "cell_type": "code",
   "metadata": {
    "ExecuteTime": {
     "end_time": "2024-09-06T18:39:22.184635Z",
     "start_time": "2024-09-06T18:39:21.517183Z"
    }
   },
   "source": [
    "import pandas as pd\n",
    "import matplotlib.pyplot as plt\n",
    "from sklearn.linear_model import LinearRegression\n",
    "carbon_west = pd.read_fwf(\"https://stat4ds.rwth-aachen.de/data/Carbon_West.dat\")"
   ],
   "outputs": [],
   "execution_count": 154
  },
  {
   "cell_type": "markdown",
   "metadata": {
    "id": "8eVNIOzIBLvz"
   },
   "source": [
    "Part a. Construct a histogram of CO2 emissions. "
   ]
  },
  {
   "cell_type": "code",
   "metadata": {
    "id": "hpYwEy9D6uCb",
    "ExecuteTime": {
     "end_time": "2024-09-06T18:39:22.324653Z",
     "start_time": "2024-09-06T18:39:22.205206Z"
    }
   },
   "source": "plt.hist(carbon_west[\"CO2\"], edgecolor='black')",
   "outputs": [
    {
     "data": {
      "text/plain": [
       "(array([ 1., 10., 11.,  4.,  4.,  2.,  0.,  0.,  0.,  3.]),\n",
       " array([ 2.  ,  3.45,  4.9 ,  6.35,  7.8 ,  9.25, 10.7 , 12.15, 13.6 ,\n",
       "        15.05, 16.5 ]),\n",
       " <BarContainer object of 10 artists>)"
      ]
     },
     "execution_count": 155,
     "metadata": {},
     "output_type": "execute_result"
    },
    {
     "data": {
      "text/plain": [
       "<Figure size 640x480 with 1 Axes>"
      ],
      "image/png": "[encoded data removed]"
     },
     "metadata": {},
     "output_type": "display_data"
    }
   ],
   "execution_count": 155
  },
  {
   "cell_type": "markdown",
   "metadata": {
    "id": "okwY6u3RA2HW"
   },
   "source": [
    "Part b. Find the mean, median, and standard deviation. "
   ]
  },
  {
   "cell_type": "code",
   "metadata": {
    "id": "zRgquQXDBU7d",
    "ExecuteTime": {
     "end_time": "2024-09-06T18:39:22.355718Z",
     "start_time": "2024-09-06T18:39:22.347136Z"
    }
   },
   "source": "carbon_west.describe()",
   "outputs": [
    {
     "data": {
      "text/plain": [
       "             CO2\n",
       "count  35.000000\n",
       "mean    6.717143\n",
       "std     3.356949\n",
       "min     2.000000\n",
       "25%     4.450000\n",
       "50%     5.900000\n",
       "75%     8.000000\n",
       "max    16.500000"
      ],
      "text/html": [
       "<div>\n",
       "<style scoped>\n",
       "    .dataframe tbody tr th:only-of-type {\n",
       "        vertical-align: middle;\n",
       "    }\n",
       "\n",
       "    .dataframe tbody tr th {\n",
       "        vertical-align: top;\n",
       "    }\n",
       "\n",
       "    .dataframe thead th {\n",
       "        text-align: right;\n",
       "    }\n",
       "</style>\n",
       "<table border=\"1\" class=\"dataframe\">\n",
       "  <thead>\n",
       "    <tr style=\"text-align: right;\">\n",
       "      <th></th>\n",
       "      <th>CO2</th>\n",
       "    </tr>\n",
       "  </thead>\n",
       "  <tbody>\n",
       "    <tr>\n",
       "      <th>count</th>\n",
       "      <td>35.000000</td>\n",
       "    </tr>\n",
       "    <tr>\n",
       "      <th>mean</th>\n",
       "      <td>6.717143</td>\n",
       "    </tr>\n",
       "    <tr>\n",
       "      <th>std</th>\n",
       "      <td>3.356949</td>\n",
       "    </tr>\n",
       "    <tr>\n",
       "      <th>min</th>\n",
       "      <td>2.000000</td>\n",
       "    </tr>\n",
       "    <tr>\n",
       "      <th>25%</th>\n",
       "      <td>4.450000</td>\n",
       "    </tr>\n",
       "    <tr>\n",
       "      <th>50%</th>\n",
       "      <td>5.900000</td>\n",
       "    </tr>\n",
       "    <tr>\n",
       "      <th>75%</th>\n",
       "      <td>8.000000</td>\n",
       "    </tr>\n",
       "    <tr>\n",
       "      <th>max</th>\n",
       "      <td>16.500000</td>\n",
       "    </tr>\n",
       "  </tbody>\n",
       "</table>\n",
       "</div>"
      ]
     },
     "execution_count": 156,
     "metadata": {},
     "output_type": "execute_result"
    }
   ],
   "execution_count": 156
  },
  {
   "cell_type": "markdown",
   "metadata": {
    "id": "51Jc1C0G8pyj"
   },
   "source": [
    "**Problem 3**. Read in the murder data set using the following code. The variable murder is the murder rate (per 100,000 population) for each state in the U.S. in 2017 according to the FBI Uniform Crime Reports. At first, do not use the observation for D.C. (DC). "
   ]
  },
  {
   "cell_type": "code",
   "metadata": {
    "ExecuteTime": {
     "end_time": "2024-09-06T18:39:23.061375Z",
     "start_time": "2024-09-06T18:39:22.412503Z"
    }
   },
   "source": "murders = pd.read_fwf(\"https://stat4ds.rwth-aachen.de/data/Murder.dat\")",
   "outputs": [],
   "execution_count": 157
  },
  {
   "cell_type": "markdown",
   "metadata": {
    "id": "GZZLzlxUBHNq"
   },
   "source": [
    "Part a. Find the mean and standard deviation for murders without D.C."
   ]
  },
  {
   "metadata": {
    "ExecuteTime": {
     "end_time": "2024-09-06T18:39:23.104027Z",
     "start_time": "2024-09-06T18:39:23.099388Z"
    }
   },
   "cell_type": "code",
   "source": [
    "murders_without_dc = murders[murders['state'] != 'DC']\n",
    "murders_without_dc_description = murders_without_dc.describe()"
   ],
   "outputs": [],
   "execution_count": 158
  },
  {
   "metadata": {
    "ExecuteTime": {
     "end_time": "2024-09-06T18:39:23.124438Z",
     "start_time": "2024-09-06T18:39:23.120805Z"
    }
   },
   "cell_type": "code",
   "source": [
    "mean = murders_without_dc_description.loc['mean']['murder']\n",
    "std = murders_without_dc_description.loc['std']['murder']\n",
    "print(f'Mean: {mean}')\n",
    "print(f'Standard Deviation: {std}')"
   ],
   "outputs": [
    {
     "name": "stdout",
     "output_type": "stream",
     "text": [
      "Mean: 4.874\n",
      "Standard Deviation: 2.586291174793806\n"
     ]
    }
   ],
   "execution_count": 159
  },
  {
   "cell_type": "markdown",
   "metadata": {
    "id": "i2g3hF1gBfmV"
   },
   "source": [
    "Part b. Find the five-number  summary without D.C. "
   ]
  },
  {
   "cell_type": "code",
   "metadata": {
    "id": "JHUzgc_CBkuo",
    "ExecuteTime": {
     "end_time": "2024-09-06T18:39:23.194673Z",
     "start_time": "2024-09-06T18:39:23.190689Z"
    }
   },
   "source": [
    "min = murders_without_dc_description.loc['min']['murder']\n",
    "firstQuartile = murders_without_dc_description.loc['25%']['murder']\n",
    "secondQuartile = murders_without_dc_description.loc['50%']['murder']\n",
    "thirdQuartile = murders_without_dc_description.loc['75%']['murder']\n",
    "max = murders_without_dc_description.loc['max']['murder']\n",
    "print(f'Min: {min}')\n",
    "print(f'25%: {firstQuartile}')\n",
    "print(f'50%: {secondQuartile}')\n",
    "print(f'75%: {thirdQuartile}')\n",
    "print(f'Max: {max}')"
   ],
   "outputs": [
    {
     "name": "stdout",
     "output_type": "stream",
     "text": [
      "Min: 1.0\n",
      "25%: 2.625\n",
      "50%: 4.85\n",
      "75%: 6.175\n",
      "Max: 12.4\n"
     ]
    }
   ],
   "execution_count": 160
  },
  {
   "cell_type": "markdown",
   "metadata": {
    "id": "StEDIf2eBlEo"
   },
   "source": [
    "Part c. Now include the observation for D.C. and recalculate the mean, median, and five-number summary. What is affected more by this outlier: The mean or the median? The range or the inter-quartile range?\n",
    "\n",
    "\n",
    "It seems to me like the mean and the range are more affected by this outlier. The median and then inter-quartile range are more resistant to outliers."
   ]
  },
  {
   "cell_type": "code",
   "metadata": {
    "id": "0E-QkG4K85Ti",
    "ExecuteTime": {
     "end_time": "2024-09-06T18:39:23.234259Z",
     "start_time": "2024-09-06T18:39:23.224648Z"
    }
   },
   "source": "print(murders.describe())",
   "outputs": [
    {
     "name": "stdout",
     "output_type": "stream",
     "text": [
      "          murder\n",
      "count  51.000000\n",
      "mean    5.252941\n",
      "std     3.725391\n",
      "min     1.000000\n",
      "25%     2.650000\n",
      "50%     5.000000\n",
      "75%     6.450000\n",
      "max    24.200000\n"
     ]
    }
   ],
   "execution_count": 161
  },
  {
   "cell_type": "markdown",
   "metadata": {
    "id": "XSUrzIUN9Usb"
   },
   "source": [
    "**Problem 4**. Read in the Houses data file using the following code.  The variables include price (thousands of dollars), size (square feet), tax bill (dollars), number of bathrooms, number of bedrooms, and whether the house is new (1 = yes, 0 = no) for 100 home sales in Gainesville, Florida. Let\n",
    "y = selling price and x = size of home."
   ]
  },
  {
   "cell_type": "code",
   "metadata": {
    "ExecuteTime": {
     "end_time": "2024-09-06T18:39:23.945989Z",
     "start_time": "2024-09-06T18:39:23.277049Z"
    }
   },
   "source": [
    "houses = pd.read_fwf(\"https://stat4ds.rwth-aachen.de/data/Houses.dat\")\n",
    "houses.head()"
   ],
   "outputs": [
    {
     "data": {
      "text/plain": [
       "   case   price  size  new  taxes  bedrooms  baths\n",
       "0     1  419.85  2048    0   3104         4      2\n",
       "1     2  219.75   912    0   1173         2      1\n",
       "2     3  356.55  1654    0   3076         4      2\n",
       "3     4  300.00  2068    0   1608         3      2\n",
       "4     5  239.85  1477    0   1454         3      3"
      ],
      "text/html": [
       "<div>\n",
       "<style scoped>\n",
       "    .dataframe tbody tr th:only-of-type {\n",
       "        vertical-align: middle;\n",
       "    }\n",
       "\n",
       "    .dataframe tbody tr th {\n",
       "        vertical-align: top;\n",
       "    }\n",
       "\n",
       "    .dataframe thead th {\n",
       "        text-align: right;\n",
       "    }\n",
       "</style>\n",
       "<table border=\"1\" class=\"dataframe\">\n",
       "  <thead>\n",
       "    <tr style=\"text-align: right;\">\n",
       "      <th></th>\n",
       "      <th>case</th>\n",
       "      <th>price</th>\n",
       "      <th>size</th>\n",
       "      <th>new</th>\n",
       "      <th>taxes</th>\n",
       "      <th>bedrooms</th>\n",
       "      <th>baths</th>\n",
       "    </tr>\n",
       "  </thead>\n",
       "  <tbody>\n",
       "    <tr>\n",
       "      <th>0</th>\n",
       "      <td>1</td>\n",
       "      <td>419.85</td>\n",
       "      <td>2048</td>\n",
       "      <td>0</td>\n",
       "      <td>3104</td>\n",
       "      <td>4</td>\n",
       "      <td>2</td>\n",
       "    </tr>\n",
       "    <tr>\n",
       "      <th>1</th>\n",
       "      <td>2</td>\n",
       "      <td>219.75</td>\n",
       "      <td>912</td>\n",
       "      <td>0</td>\n",
       "      <td>1173</td>\n",
       "      <td>2</td>\n",
       "      <td>1</td>\n",
       "    </tr>\n",
       "    <tr>\n",
       "      <th>2</th>\n",
       "      <td>3</td>\n",
       "      <td>356.55</td>\n",
       "      <td>1654</td>\n",
       "      <td>0</td>\n",
       "      <td>3076</td>\n",
       "      <td>4</td>\n",
       "      <td>2</td>\n",
       "    </tr>\n",
       "    <tr>\n",
       "      <th>3</th>\n",
       "      <td>4</td>\n",
       "      <td>300.00</td>\n",
       "      <td>2068</td>\n",
       "      <td>0</td>\n",
       "      <td>1608</td>\n",
       "      <td>3</td>\n",
       "      <td>2</td>\n",
       "    </tr>\n",
       "    <tr>\n",
       "      <th>4</th>\n",
       "      <td>5</td>\n",
       "      <td>239.85</td>\n",
       "      <td>1477</td>\n",
       "      <td>0</td>\n",
       "      <td>1454</td>\n",
       "      <td>3</td>\n",
       "      <td>3</td>\n",
       "    </tr>\n",
       "  </tbody>\n",
       "</table>\n",
       "</div>"
      ]
     },
     "execution_count": 162,
     "metadata": {},
     "output_type": "execute_result"
    }
   ],
   "execution_count": 162
  },
  {
   "cell_type": "markdown",
   "metadata": {
    "id": "ANDMQnnNCDJ_"
   },
   "source": [
    "Part a. Construct a scatterplot between square feet and price of a home. "
   ]
  },
  {
   "cell_type": "code",
   "metadata": {
    "id": "NR78IlfS9UQL",
    "ExecuteTime": {
     "end_time": "2024-09-06T18:39:24.086301Z",
     "start_time": "2024-09-06T18:39:23.986931Z"
    }
   },
   "source": [
    "size = houses['size']\n",
    "price = houses['price']\n",
    "\n",
    "plt.scatter(y=price, x=size)\n",
    "plt.ylabel('Price (Thousands of Dollars)')\n",
    "plt.xlabel('Size (Square Ft)')"
   ],
   "outputs": [
    {
     "data": {
      "text/plain": [
       "Text(0.5, 0, 'Size (Square Ft)')"
      ]
     },
     "execution_count": 163,
     "metadata": {},
     "output_type": "execute_result"
    },
    {
     "data": {
      "text/plain": [
       "<Figure size 640x480 with 1 Axes>"
      ],
      "image/png": "[encoded data removed]"
     },
     "metadata": {},
     "output_type": "display_data"
    }
   ],
   "execution_count": 163
  },
  {
   "cell_type": "markdown",
   "metadata": {
    "id": "r3-QiSsACInq"
   },
   "source": [
    "Part b. Find the correlation between the two variables."
   ]
  },
  {
   "cell_type": "code",
   "metadata": {
    "id": "1Z9oP-T6CMdx",
    "ExecuteTime": {
     "end_time": "2024-09-06T18:39:24.138079Z",
     "start_time": "2024-09-06T18:39:24.133214Z"
    }
   },
   "source": [
    "correlation = size.corr(price)\n",
    "print(f'Correlation: {correlation}')"
   ],
   "outputs": [
    {
     "name": "stdout",
     "output_type": "stream",
     "text": [
      "Correlation: 0.8337847885586536\n"
     ]
    }
   ],
   "execution_count": 164
  },
  {
   "cell_type": "markdown",
   "metadata": {
    "id": "nCTcEbFSCM6J"
   },
   "source": [
    "Part c. Find and plot the regression line on top of the scatterplot. "
   ]
  },
  {
   "cell_type": "code",
   "metadata": {
    "ExecuteTime": {
     "end_time": "2024-09-06T18:39:24.389102Z",
     "start_time": "2024-09-06T18:39:24.216857Z"
    }
   },
   "source": [
    "x = pd.DataFrame(size, columns=['size'])\n",
    "y = price\n",
    "\n",
    "model = LinearRegression()\n",
    "model.fit(x, y)\n",
    "\n",
    "plt.scatter(size, price, label='Scatterplot')\n",
    "plt.plot(x, model.predict(x), color='red', label='Regression Line')\n",
    "plt.ylabel('Price (Thousands of Dollars)')\n",
    "plt.xlabel('Size (Square Ft)')\n",
    "plt.show()"
   ],
   "outputs": [
    {
     "data": {
      "text/plain": [
       "<Figure size 640x480 with 1 Axes>"
      ],
      "image/png": "[encoded data removed]"
     },
     "metadata": {},
     "output_type": "display_data"
    }
   ],
   "execution_count": 165
  },
  {
   "cell_type": "markdown",
   "metadata": {},
   "source": [
    "Part d. Create a side by side boxplot of price comparing homes that are new and homes that are not new. "
   ]
  },
  {
   "cell_type": "code",
   "metadata": {
    "ExecuteTime": {
     "end_time": "2024-09-06T18:39:24.708384Z",
     "start_time": "2024-09-06T18:39:24.485595Z"
    }
   },
   "source": [
    "plt.figure(figsize=(6,4))\n",
    "houses.boxplot(column='price', by='new', vert=False)\n",
    "plt.show()"
   ],
   "outputs": [
    {
     "data": {
      "text/plain": [
       "<Figure size 600x400 with 0 Axes>"
      ]
     },
     "metadata": {},
     "output_type": "display_data"
    },
    {
     "data": {
      "text/plain": [
       "<Figure size 640x480 with 1 Axes>"
      ],
      "image/png": "[encoded data removed]"
     },
     "metadata": {},
     "output_type": "display_data"
    }
   ],
   "execution_count": 166
  },
  {
   "cell_type": "markdown",
   "metadata": {},
   "source": [
    "Part e. What is the relationship between size and price.  Justify your answer using the plots created. Do the same for the relationship between price and whether or not a house is new, again using the plot to justify your answer."
   ]
  },
  {
   "cell_type": "markdown",
   "metadata": {},
   "source": [
    "As size increases, price increases. This is proven by the high correlation value between the two of 0.83.\n",
    "\n",
    "Price is also affected by whether the house is new or not. Newer houses cost more. This can be seen using the box plot above, which shows that old houses are much cheaper than new ones, except for some outliers."
   ]
  },
  {
   "cell_type": "markdown",
   "metadata": {
    "id": "QsOTfwzI9alX"
   },
   "source": [
    "**Problem 1.22**. Using the Happy data file read in by the following code. Construct the contingency table relating marital status and happiness. "
   ]
  },
  {
   "cell_type": "code",
   "metadata": {
    "ExecuteTime": {
     "end_time": "2024-09-06T18:39:25.727769Z",
     "start_time": "2024-09-06T18:39:24.754519Z"
    }
   },
   "source": [
    "happy = pd.read_fwf(\"https://stat4ds.rwth-aachen.de/data/Happy.dat\")\n",
    "print(happy.head())"
   ],
   "outputs": [
    {
     "name": "stdout",
     "output_type": "stream",
     "text": [
      "   subject happiness marital gender\n",
      "0        1   1     1    male    NaN\n",
      "1        2   1     1    male    NaN\n",
      "2        3   1     1    male    NaN\n",
      "3        4   1     1    male    NaN\n",
      "4        5   1     1    male    NaN\n"
     ]
    }
   ],
   "execution_count": 167
  },
  {
   "cell_type": "code",
   "metadata": {
    "id": "NP3JwT9o9btJ",
    "ExecuteTime": {
     "end_time": "2024-09-06T18:39:25.762950Z",
     "start_time": "2024-09-06T18:39:25.748758Z"
    }
   },
   "source": "pd.crosstab(happy['happiness'], happy['marital'], normalize='index')",
   "outputs": [
    {
     "data": {
      "text/plain": [
       "marital     fe       fem       mal      male\n",
       "happiness                                   \n",
       "1          1.0  0.000000  0.000000  0.000000\n",
       "1     1    0.0  0.023697  0.507109  0.469194\n",
       "1     2    0.0  0.000000  1.000000  0.000000\n",
       "1     3    0.0  0.000000  1.000000  0.000000\n",
       "2          1.0  0.000000  0.000000  0.000000\n",
       "2     1    0.0  0.000000  1.000000  0.000000\n",
       "2     2    0.0  0.000000  1.000000  0.000000\n",
       "2     3    0.0  0.000000  1.000000  0.000000\n",
       "3          1.0  0.000000  0.000000  0.000000\n",
       "3     1    0.0  0.000000  1.000000  0.000000\n",
       "3     2    0.0  0.000000  1.000000  0.000000\n",
       "3     3    0.0  0.000000  1.000000  0.000000"
      ],
      "text/html": [
       "<div>\n",
       "<style scoped>\n",
       "    .dataframe tbody tr th:only-of-type {\n",
       "        vertical-align: middle;\n",
       "    }\n",
       "\n",
       "    .dataframe tbody tr th {\n",
       "        vertical-align: top;\n",
       "    }\n",
       "\n",
       "    .dataframe thead th {\n",
       "        text-align: right;\n",
       "    }\n",
       "</style>\n",
       "<table border=\"1\" class=\"dataframe\">\n",
       "  <thead>\n",
       "    <tr style=\"text-align: right;\">\n",
       "      <th>marital</th>\n",
       "      <th>fe</th>\n",
       "      <th>fem</th>\n",
       "      <th>mal</th>\n",
       "      <th>male</th>\n",
       "    </tr>\n",
       "    <tr>\n",
       "      <th>happiness</th>\n",
       "      <th></th>\n",
       "      <th></th>\n",
       "      <th></th>\n",
       "      <th></th>\n",
       "    </tr>\n",
       "  </thead>\n",
       "  <tbody>\n",
       "    <tr>\n",
       "      <th>1</th>\n",
       "      <td>1.0</td>\n",
       "      <td>0.000000</td>\n",
       "      <td>0.000000</td>\n",
       "      <td>0.000000</td>\n",
       "    </tr>\n",
       "    <tr>\n",
       "      <th>1     1</th>\n",
       "      <td>0.0</td>\n",
       "      <td>0.023697</td>\n",
       "      <td>0.507109</td>\n",
       "      <td>0.469194</td>\n",
       "    </tr>\n",
       "    <tr>\n",
       "      <th>1     2</th>\n",
       "      <td>0.0</td>\n",
       "      <td>0.000000</td>\n",
       "      <td>1.000000</td>\n",
       "      <td>0.000000</td>\n",
       "    </tr>\n",
       "    <tr>\n",
       "      <th>1     3</th>\n",
       "      <td>0.0</td>\n",
       "      <td>0.000000</td>\n",
       "      <td>1.000000</td>\n",
       "      <td>0.000000</td>\n",
       "    </tr>\n",
       "    <tr>\n",
       "      <th>2</th>\n",
       "      <td>1.0</td>\n",
       "      <td>0.000000</td>\n",
       "      <td>0.000000</td>\n",
       "      <td>0.000000</td>\n",
       "    </tr>\n",
       "    <tr>\n",
       "      <th>2     1</th>\n",
       "      <td>0.0</td>\n",
       "      <td>0.000000</td>\n",
       "      <td>1.000000</td>\n",
       "      <td>0.000000</td>\n",
       "    </tr>\n",
       "    <tr>\n",
       "      <th>2     2</th>\n",
       "      <td>0.0</td>\n",
       "      <td>0.000000</td>\n",
       "      <td>1.000000</td>\n",
       "      <td>0.000000</td>\n",
       "    </tr>\n",
       "    <tr>\n",
       "      <th>2     3</th>\n",
       "      <td>0.0</td>\n",
       "      <td>0.000000</td>\n",
       "      <td>1.000000</td>\n",
       "      <td>0.000000</td>\n",
       "    </tr>\n",
       "    <tr>\n",
       "      <th>3</th>\n",
       "      <td>1.0</td>\n",
       "      <td>0.000000</td>\n",
       "      <td>0.000000</td>\n",
       "      <td>0.000000</td>\n",
       "    </tr>\n",
       "    <tr>\n",
       "      <th>3     1</th>\n",
       "      <td>0.0</td>\n",
       "      <td>0.000000</td>\n",
       "      <td>1.000000</td>\n",
       "      <td>0.000000</td>\n",
       "    </tr>\n",
       "    <tr>\n",
       "      <th>3     2</th>\n",
       "      <td>0.0</td>\n",
       "      <td>0.000000</td>\n",
       "      <td>1.000000</td>\n",
       "      <td>0.000000</td>\n",
       "    </tr>\n",
       "    <tr>\n",
       "      <th>3     3</th>\n",
       "      <td>0.0</td>\n",
       "      <td>0.000000</td>\n",
       "      <td>1.000000</td>\n",
       "      <td>0.000000</td>\n",
       "    </tr>\n",
       "  </tbody>\n",
       "</table>\n",
       "</div>"
      ]
     },
     "execution_count": 168,
     "metadata": {},
     "output_type": "execute_result"
    }
   ],
   "execution_count": 168
  },
  {
   "metadata": {
    "ExecuteTime": {
     "end_time": "2024-09-06T18:39:25.816100Z",
     "start_time": "2024-09-06T18:39:25.814314Z"
    }
   },
   "cell_type": "code",
   "source": "",
   "outputs": [],
   "execution_count": null
  }
 ],
 "metadata": {
  "colab": {
   "authorship_tag": "ABX9TyOhHxve7vvG01k2sU+qC838",
   "provenance": []
  },
  "kernelspec": {
   "display_name": "Python 3 (ipykernel)",
   "name": "python3",
   "language": "python"
  },
  "language_info": {
   "codemirror_mode": {
    "name": "ipython",
    "version": 3
   },
   "file_extension": ".py",
   "mimetype": "text/x-python",
   "name": "python",
   "nbconvert_exporter": "python",
   "pygments_lexer": "ipython3",
   "version": "3.9.6"
  }
 },
 "nbformat": 4,
 "nbformat_minor": 0
}
